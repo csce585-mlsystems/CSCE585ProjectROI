{
 "cells": [
  {
   "cell_type": "code",
   "execution_count": 13,
   "id": "a4bc26f9-1087-4e42-a114-ee1a9b3efd28",
   "metadata": {
    "executionCancelledAt": null,
    "executionTime": 1748,
    "lastExecutedAt": 1760713620790,
    "lastExecutedByKernel": "8d892d96-0f8a-4759-a22f-00e36fcd7445",
    "lastScheduledRunId": null,
    "lastSuccessfullyExecutedCode": "!pip install yfinance ",
    "outputsMetadata": {
     "0": {
      "height": 482,
      "type": "stream"
     }
    }
   },
   "outputs": [
    {
     "name": "stdout",
     "output_type": "stream",
     "text": [
      "Requirement already satisfied: yfinance in /home/repl/.venv-user/lib/python3.12/site-packages (0.2.66)\n",
      "Requirement already satisfied: pandas>=1.3.0 in /home/repl/.venv-user/lib/python3.12/site-packages (from yfinance) (2.3.1)\n",
      "Requirement already satisfied: numpy>=1.16.5 in /home/repl/.venv-user/lib/python3.12/site-packages (from yfinance) (2.1.3)\n",
      "Requirement already satisfied: requests>=2.31 in /home/repl/.venv-user/lib/python3.12/site-packages (from yfinance) (2.32.4)\n",
      "Requirement already satisfied: multitasking>=0.0.7 in /home/repl/.venv-user/lib/python3.12/site-packages (from yfinance) (0.0.12)\n",
      "Requirement already satisfied: platformdirs>=2.0.0 in /home/repl/.venv-user/lib/python3.12/site-packages (from yfinance) (4.3.8)\n",
      "Requirement already satisfied: pytz>=2022.5 in /home/repl/.venv-user/lib/python3.12/site-packages (from yfinance) (2025.2)\n",
      "Requirement already satisfied: frozendict>=2.3.4 in /home/repl/.venv-user/lib/python3.12/site-packages (from yfinance) (2.4.6)\n",
      "Requirement already satisfied: peewee>=3.16.2 in /home/repl/.venv-user/lib/python3.12/site-packages (from yfinance) (3.18.2)\n",
      "Requirement already satisfied: beautifulsoup4>=4.11.1 in /home/repl/.venv-user/lib/python3.12/site-packages (from yfinance) (4.13.4)\n",
      "Requirement already satisfied: curl_cffi>=0.7 in /home/repl/.venv-user/lib/python3.12/site-packages (from yfinance) (0.13.0)\n",
      "Requirement already satisfied: protobuf>=3.19.0 in /home/repl/.venv-user/lib/python3.12/site-packages (from yfinance) (5.29.5)\n",
      "Requirement already satisfied: websockets>=13.0 in /home/repl/.venv-user/lib/python3.12/site-packages (from yfinance) (15.0.1)\n",
      "Requirement already satisfied: soupsieve>1.2 in /home/repl/.venv-user/lib/python3.12/site-packages (from beautifulsoup4>=4.11.1->yfinance) (2.7)\n",
      "Requirement already satisfied: typing-extensions>=4.0.0 in /home/repl/.venv-user/lib/python3.12/site-packages (from beautifulsoup4>=4.11.1->yfinance) (4.14.1)\n",
      "Requirement already satisfied: cffi>=1.12.0 in /home/repl/.venv-user/lib/python3.12/site-packages (from curl_cffi>=0.7->yfinance) (1.17.1)\n",
      "Requirement already satisfied: certifi>=2024.2.2 in /home/repl/.venv-user/lib/python3.12/site-packages (from curl_cffi>=0.7->yfinance) (2025.8.3)\n",
      "Requirement already satisfied: pycparser in /home/repl/.venv-user/lib/python3.12/site-packages (from cffi>=1.12.0->curl_cffi>=0.7->yfinance) (2.22)\n",
      "Requirement already satisfied: python-dateutil>=2.8.2 in /home/repl/.venv-user/lib/python3.12/site-packages (from pandas>=1.3.0->yfinance) (2.9.0.post0)\n",
      "Requirement already satisfied: tzdata>=2022.7 in /home/repl/.venv-user/lib/python3.12/site-packages (from pandas>=1.3.0->yfinance) (2025.2)\n",
      "Requirement already satisfied: six>=1.5 in /home/repl/.venv-user/lib/python3.12/site-packages (from python-dateutil>=2.8.2->pandas>=1.3.0->yfinance) (1.17.0)\n",
      "Requirement already satisfied: charset_normalizer<4,>=2 in /home/repl/.venv-user/lib/python3.12/site-packages (from requests>=2.31->yfinance) (3.4.2)\n",
      "Requirement already satisfied: idna<4,>=2.5 in /home/repl/.venv-user/lib/python3.12/site-packages (from requests>=2.31->yfinance) (3.10)\n",
      "Requirement already satisfied: urllib3<3,>=1.21.1 in /home/repl/.venv-user/lib/python3.12/site-packages (from requests>=2.31->yfinance) (2.5.0)\n"
     ]
    }
   ],
   "source": [
    "!pip install yfinance "
   ]
  },
  {
   "cell_type": "code",
   "execution_count": 14,
   "id": "d4ecf50b-1e97-414b-806c-8e0d275cab0f",
   "metadata": {
    "executionCancelledAt": null,
    "executionTime": 1678,
    "lastExecutedAt": 1760713622470,
    "lastExecutedByKernel": "8d892d96-0f8a-4759-a22f-00e36fcd7445",
    "lastScheduledRunId": null,
    "lastSuccessfullyExecutedCode": "!pip install kagglehub",
    "outputsMetadata": {
     "0": {
      "height": 374,
      "type": "stream"
     }
    }
   },
   "outputs": [
    {
     "name": "stdout",
     "output_type": "stream",
     "text": [
      "Requirement already satisfied: kagglehub in /home/repl/.venv-user/lib/python3.12/site-packages (0.3.13)\n",
      "Requirement already satisfied: packaging in /home/repl/.venv-user/lib/python3.12/site-packages (from kagglehub) (25.0)\n",
      "Requirement already satisfied: pyyaml in /home/repl/.venv-user/lib/python3.12/site-packages (from kagglehub) (6.0.2)\n",
      "Requirement already satisfied: requests in /home/repl/.venv-user/lib/python3.12/site-packages (from kagglehub) (2.32.4)\n",
      "Requirement already satisfied: tqdm in /home/repl/.venv-user/lib/python3.12/site-packages (from kagglehub) (4.67.1)\n",
      "Requirement already satisfied: charset_normalizer<4,>=2 in /home/repl/.venv-user/lib/python3.12/site-packages (from requests->kagglehub) (3.4.2)\n",
      "Requirement already satisfied: idna<4,>=2.5 in /home/repl/.venv-user/lib/python3.12/site-packages (from requests->kagglehub) (3.10)\n",
      "Requirement already satisfied: urllib3<3,>=1.21.1 in /home/repl/.venv-user/lib/python3.12/site-packages (from requests->kagglehub) (2.5.0)\n",
      "Requirement already satisfied: certifi>=2017.4.17 in /home/repl/.venv-user/lib/python3.12/site-packages (from requests->kagglehub) (2025.8.3)\n"
     ]
    }
   ],
   "source": [
    "!pip install kagglehub"
   ]
  },
  {
   "cell_type": "code",
   "execution_count": 15,
   "id": "277a9f89-6350-4ca3-a2ff-274e8915b341",
   "metadata": {
    "executionCancelledAt": null,
    "executionTime": 336,
    "lastExecutedAt": 1760713622807,
    "lastExecutedByKernel": "8d892d96-0f8a-4759-a22f-00e36fcd7445",
    "lastScheduledRunId": null,
    "lastSuccessfullyExecutedCode": "import yfinance as yf\nimport kagglehub\nimport pandas as pd \n\n# Define the list of companies\ncompanies = [\"MSFT\"]\n\n# FIX: You must create a Ticker object before calling .history()\nticker = yf.Ticker(companies[0])\nmainDataSet = ticker.history(period=\"1y\")  # Specify the period as needed\n\n# Example function for dataset retrieval (not fully implemented, just a placeholder)\ndef dataSetRetriev():\n    # Example: Download a dataset from Kaggle (not functional without API credentials)\n    # dataset_path = kagglehub.dataset_download(\"iveeaten3223times/massive-yahoo-finance-dataset\")\n    # mainDataSet = pd.read_csv(dataset_path)\n    # Placeholder for additional data retrieval logic\n    pass\n\n# Example: Change companies list for further use\ncompanies = ['AAPL']  # Using stocks: Apple, Amazon, Google, Microsoft\n\n# mainDataSet now contains 1 year of historical data for MSFT\nmainDataSet.head()",
    "outputsMetadata": {
     "0": {
      "height": 500,
      "tableState": {},
      "type": "dataFrame"
     }
    }
   },
   "outputs": [
    {
     "data": {
      "application/com.datacamp.data-table.v2+json": {
       "table": {
        "data": {
         "Close": [
          413.6147766113,
          415.0440673828,
          415.6594238281,
          424.3244018555,
          421.4360656738
         ],
         "Date": [
          "2024-10-17T04:00:00.000",
          "2024-10-18T04:00:00.000",
          "2024-10-21T04:00:00.000",
          "2024-10-22T04:00:00.000",
          "2024-10-23T04:00:00.000"
         ],
         "Dividends": [
          0,
          0,
          0,
          0,
          0
         ],
         "High": [
          419.351705237,
          416.5229548943,
          415.8380752731,
          427.3715026073,
          427.8677600571
         ],
         "Low": [
          412.4931920562,
          413.1582313681,
          410.6669065146,
          414.924966727,
          419.3814831724
         ],
         "Open": [
          419.2127339197,
          414.0316788588,
          413.0192414106,
          415.37159536,
          427.6493981928
         ],
         "Stock Splits": [
          0,
          0,
          0,
          0,
          0
         ],
         "Volume": [
          14820000,
          17145300,
          14206100,
          25482200,
          19654400
         ]
        },
        "schema": {
         "fields": [
          {
           "name": "Date",
           "type": "datetime",
           "tz": "America/New_York"
          },
          {
           "name": "Open",
           "type": "number"
          },
          {
           "name": "High",
           "type": "number"
          },
          {
           "name": "Low",
           "type": "number"
          },
          {
           "name": "Close",
           "type": "number"
          },
          {
           "name": "Volume",
           "type": "integer"
          },
          {
           "name": "Dividends",
           "type": "number"
          },
          {
           "name": "Stock Splits",
           "type": "number"
          }
         ],
         "pandas_version": "1.4.0",
         "primaryKey": [
          "Date"
         ]
        }
       },
       "total_rows": 5,
       "truncation_type": null
      },
      "text/html": [
       "<div>\n",
       "<style scoped>\n",
       "    .dataframe tbody tr th:only-of-type {\n",
       "        vertical-align: middle;\n",
       "    }\n",
       "\n",
       "    .dataframe tbody tr th {\n",
       "        vertical-align: top;\n",
       "    }\n",
       "\n",
       "    .dataframe thead th {\n",
       "        text-align: right;\n",
       "    }\n",
       "</style>\n",
       "<table border=\"1\" class=\"dataframe\">\n",
       "  <thead>\n",
       "    <tr style=\"text-align: right;\">\n",
       "      <th></th>\n",
       "      <th>Open</th>\n",
       "      <th>High</th>\n",
       "      <th>Low</th>\n",
       "      <th>Close</th>\n",
       "      <th>Volume</th>\n",
       "      <th>Dividends</th>\n",
       "      <th>Stock Splits</th>\n",
       "    </tr>\n",
       "    <tr>\n",
       "      <th>Date</th>\n",
       "      <th></th>\n",
       "      <th></th>\n",
       "      <th></th>\n",
       "      <th></th>\n",
       "      <th></th>\n",
       "      <th></th>\n",
       "      <th></th>\n",
       "    </tr>\n",
       "  </thead>\n",
       "  <tbody>\n",
       "    <tr>\n",
       "      <th>2024-10-17 00:00:00-04:00</th>\n",
       "      <td>419.212734</td>\n",
       "      <td>419.351705</td>\n",
       "      <td>412.493192</td>\n",
       "      <td>413.614777</td>\n",
       "      <td>14820000</td>\n",
       "      <td>0.0</td>\n",
       "      <td>0.0</td>\n",
       "    </tr>\n",
       "    <tr>\n",
       "      <th>2024-10-18 00:00:00-04:00</th>\n",
       "      <td>414.031679</td>\n",
       "      <td>416.522955</td>\n",
       "      <td>413.158231</td>\n",
       "      <td>415.044067</td>\n",
       "      <td>17145300</td>\n",
       "      <td>0.0</td>\n",
       "      <td>0.0</td>\n",
       "    </tr>\n",
       "    <tr>\n",
       "      <th>2024-10-21 00:00:00-04:00</th>\n",
       "      <td>413.019241</td>\n",
       "      <td>415.838075</td>\n",
       "      <td>410.666907</td>\n",
       "      <td>415.659424</td>\n",
       "      <td>14206100</td>\n",
       "      <td>0.0</td>\n",
       "      <td>0.0</td>\n",
       "    </tr>\n",
       "    <tr>\n",
       "      <th>2024-10-22 00:00:00-04:00</th>\n",
       "      <td>415.371595</td>\n",
       "      <td>427.371503</td>\n",
       "      <td>414.924967</td>\n",
       "      <td>424.324402</td>\n",
       "      <td>25482200</td>\n",
       "      <td>0.0</td>\n",
       "      <td>0.0</td>\n",
       "    </tr>\n",
       "    <tr>\n",
       "      <th>2024-10-23 00:00:00-04:00</th>\n",
       "      <td>427.649398</td>\n",
       "      <td>427.867760</td>\n",
       "      <td>419.381483</td>\n",
       "      <td>421.436066</td>\n",
       "      <td>19654400</td>\n",
       "      <td>0.0</td>\n",
       "      <td>0.0</td>\n",
       "    </tr>\n",
       "  </tbody>\n",
       "</table>\n",
       "</div>"
      ],
      "text/plain": [
       "                                 Open        High  ...  Dividends  Stock Splits\n",
       "Date                                               ...                         \n",
       "2024-10-17 00:00:00-04:00  419.212734  419.351705  ...        0.0           0.0\n",
       "2024-10-18 00:00:00-04:00  414.031679  416.522955  ...        0.0           0.0\n",
       "2024-10-21 00:00:00-04:00  413.019241  415.838075  ...        0.0           0.0\n",
       "2024-10-22 00:00:00-04:00  415.371595  427.371503  ...        0.0           0.0\n",
       "2024-10-23 00:00:00-04:00  427.649398  427.867760  ...        0.0           0.0\n",
       "\n",
       "[5 rows x 7 columns]"
      ]
     },
     "execution_count": 15,
     "metadata": {
      "application/com.datacamp.data-table.v2+json": {
       "status": "success"
      }
     },
     "output_type": "execute_result"
    }
   ],
   "source": [
    "import yfinance as yf\n",
    "import kagglehub\n",
    "import pandas as pd \n",
    "\n",
    "# Define the list of companies\n",
    "companies = [\"MSFT\"]\n",
    "\n",
    "# FIX: You must create a Ticker object before calling .history()\n",
    "ticker = yf.Ticker(companies[0])\n",
    "mainDataSet = ticker.history(period=\"1y\")  # Specify the period as needed\n",
    "\n",
    "# Example function for dataset retrieval (not fully implemented, just a placeholder)\n",
    "def dataSetRetriev():\n",
    "    # Example: Download a dataset from Kaggle (not functional without API credentials)\n",
    "    # dataset_path = kagglehub.dataset_download(\"iveeaten3223times/massive-yahoo-finance-dataset\")\n",
    "    # mainDataSet = pd.read_csv(dataset_path)\n",
    "    # Placeholder for additional data retrieval logic\n",
    "    pass\n",
    "\n",
    "# Example: Change companies list for further use\n",
    "companies = ['AAPL']  # Using stocks: Apple, Amazon, Google, Microsoft\n",
    "\n",
    "# mainDataSet now contains 1 year of historical data for MSFT\n",
    "mainDataSet.head()"
   ]
  }
 ],
 "metadata": {
  "colab": {
   "name": "Welcome to DataCamp Workspaces.ipynb",
   "provenance": []
  },
  "editor": "DataLab",
  "kernelspec": {
   "display_name": "Python 3 (User venv)",
   "language": "python",
   "name": "python3"
  },
  "language_info": {
   "codemirror_mode": {
    "name": "ipython",
    "version": 3
   },
   "file_extension": ".py",
   "mimetype": "text/x-python",
   "name": "python",
   "nbconvert_exporter": "python",
   "pygments_lexer": "ipython3",
   "version": "3.12.11"
  }
 },
 "nbformat": 4,
 "nbformat_minor": 5
}
